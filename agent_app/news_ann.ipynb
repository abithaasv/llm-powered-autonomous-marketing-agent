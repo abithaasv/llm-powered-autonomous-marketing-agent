{
 "cells": [
  {
   "cell_type": "code",
   "execution_count": 10,
   "metadata": {},
   "outputs": [
    {
     "ename": "ModuleNotFoundError",
     "evalue": "No module named 'sentence_transformers'",
     "output_type": "error",
     "traceback": [
      "\u001b[1;31m---------------------------------------------------------------------------\u001b[0m",
      "\u001b[1;31mModuleNotFoundError\u001b[0m                       Traceback (most recent call last)",
      "Cell \u001b[1;32mIn[10], line 4\u001b[0m\n\u001b[0;32m      2\u001b[0m \u001b[38;5;28;01mimport\u001b[39;00m \u001b[38;5;21;01mdatetime\u001b[39;00m\n\u001b[0;32m      3\u001b[0m \u001b[38;5;28;01mimport\u001b[39;00m \u001b[38;5;21;01mpandas\u001b[39;00m \u001b[38;5;28;01mas\u001b[39;00m \u001b[38;5;21;01mpd\u001b[39;00m\n\u001b[1;32m----> 4\u001b[0m \u001b[38;5;28;01mfrom\u001b[39;00m \u001b[38;5;21;01mcore\u001b[39;00m\u001b[38;5;21;01m.\u001b[39;00m\u001b[38;5;21;01mnews_funs\u001b[39;00m \u001b[38;5;28;01mimport\u001b[39;00m scrape_aibusiness, scrape_techcrunch, scrape_tldr, summarize_article\n\u001b[0;32m      6\u001b[0m start_date \u001b[38;5;241m=\u001b[39m datetime\u001b[38;5;241m.\u001b[39mdatetime(\u001b[38;5;241m2024\u001b[39m, \u001b[38;5;241m3\u001b[39m, \u001b[38;5;241m15\u001b[39m)\n\u001b[0;32m      7\u001b[0m end_date \u001b[38;5;241m=\u001b[39m datetime\u001b[38;5;241m.\u001b[39mdatetime(\u001b[38;5;241m2024\u001b[39m, \u001b[38;5;241m3\u001b[39m, \u001b[38;5;241m16\u001b[39m)\n",
      "File \u001b[1;32mc:\\Users\\17655\\Documents\\Spring24\\IP\\VS Code\\llm-marketing-agent\\agent_app\\core\\news_funs.py:6\u001b[0m\n\u001b[0;32m      4\u001b[0m \u001b[38;5;28;01mfrom\u001b[39;00m \u001b[38;5;21;01murllib\u001b[39;00m\u001b[38;5;21;01m.\u001b[39;00m\u001b[38;5;21;01mparse\u001b[39;00m \u001b[38;5;28;01mimport\u001b[39;00m urljoin\n\u001b[0;32m      5\u001b[0m \u001b[38;5;28;01mfrom\u001b[39;00m \u001b[38;5;21;01mdatetime\u001b[39;00m \u001b[38;5;28;01mimport\u001b[39;00m datetime, timedelta\n\u001b[1;32m----> 6\u001b[0m \u001b[38;5;28;01mfrom\u001b[39;00m \u001b[38;5;21;01mcore\u001b[39;00m\u001b[38;5;21;01m.\u001b[39;00m\u001b[38;5;21;01mllm_funs\u001b[39;00m \u001b[38;5;28;01mimport\u001b[39;00m run_llm_query\n\u001b[0;32m      7\u001b[0m \u001b[38;5;28;01mimport\u001b[39;00m \u001b[38;5;21;01mnewspaper\u001b[39;00m\n\u001b[0;32m      8\u001b[0m \u001b[38;5;28;01mfrom\u001b[39;00m \u001b[38;5;21;01mnewspaper\u001b[39;00m \u001b[38;5;28;01mimport\u001b[39;00m Article\n",
      "File \u001b[1;32mc:\\Users\\17655\\Documents\\Spring24\\IP\\VS Code\\llm-marketing-agent\\agent_app\\core\\llm_funs.py:5\u001b[0m\n\u001b[0;32m      3\u001b[0m \u001b[38;5;66;03m# from langchain import PromptTemplate\u001b[39;00m\n\u001b[0;32m      4\u001b[0m \u001b[38;5;28;01mfrom\u001b[39;00m \u001b[38;5;21;01mlangchain\u001b[39;00m\u001b[38;5;21;01m.\u001b[39;00m\u001b[38;5;21;01mprompts\u001b[39;00m \u001b[38;5;28;01mimport\u001b[39;00m PromptTemplate\n\u001b[1;32m----> 5\u001b[0m \u001b[38;5;28;01mfrom\u001b[39;00m \u001b[38;5;21;01msentence_transformers\u001b[39;00m \u001b[38;5;28;01mimport\u001b[39;00m SentenceTransformer\n\u001b[0;32m      6\u001b[0m \u001b[38;5;28;01mimport\u001b[39;00m \u001b[38;5;21;01mpredictionguard\u001b[39;00m \u001b[38;5;28;01mas\u001b[39;00m \u001b[38;5;21;01mpg\u001b[39;00m\n\u001b[0;32m      7\u001b[0m \u001b[38;5;28;01mfrom\u001b[39;00m \u001b[38;5;21;01mconstants\u001b[39;00m \u001b[38;5;28;01mimport\u001b[39;00m models, neuralchat_template, noushermes_template\n",
      "\u001b[1;31mModuleNotFoundError\u001b[0m: No module named 'sentence_transformers'"
     ]
    }
   ],
   "source": [
    "# Create the DB table and add the records.\n",
    "import datetime\n",
    "import pandas as pd\n",
    "from core.news_funs import scrape_aibusiness, scrape_techcrunch, scrape_tldr, summarize_article, scrape_techdirt\n",
    "\n",
    "start_date = datetime.datetime(2024, 3, 15)\n",
    "end_date = datetime.datetime(2024, 3, 16)\n",
    "\n",
    "#### Get news\n",
    "df_techcrunch = scrape_techcrunch(start_date, end_date)\n",
    "df_tldr = scrape_tldr(start_date, end_date)\n",
    "df_aibusiness = scrape_aibusiness(start_date, end_date)\n",
    "df_techdirt = scrape_techdirt(start_date, end_date)\n",
    "# combine all articles from all sources\n",
    "all_articles_df = pd.concat([df_techcrunch, df_tldr,df_aibusiness], ignore_index=True)\n",
    "\n",
    "#### Summarize news\n",
    "all_articles_df['Summary'] = all_articles_df['Content'].apply(summarize_article)\n"
   ]
  },
  {
   "cell_type": "code",
   "execution_count": null,
   "metadata": {},
   "outputs": [
    {
     "ename": "NameError",
     "evalue": "name 'all_articles_df' is not defined",
     "output_type": "error",
     "traceback": [
      "\u001b[1;31m---------------------------------------------------------------------------\u001b[0m",
      "\u001b[1;31mNameError\u001b[0m                                 Traceback (most recent call last)",
      "Cell \u001b[1;32mIn[11], line 1\u001b[0m\n\u001b[1;32m----> 1\u001b[0m \u001b[43mall_articles_df\u001b[49m\u001b[38;5;241m.\u001b[39mtail()\n",
      "\u001b[1;31mNameError\u001b[0m: name 'all_articles_df' is not defined"
     ]
    }
   ],
   "source": [
    "all_articles_df.tail()"
   ]
  },
  {
   "cell_type": "code",
   "execution_count": null,
   "metadata": {},
   "outputs": [],
   "source": [
    "import numpy as np\n",
    "import pandas as pd\n",
    "\n",
    "all_articles_df = pd.read_excel(\"combined_articles.xlsx\")\n",
    "\n",
    "\n",
    "# Generate an ID column based on the Source, Date, and an arbitrary number (for simplicity, using row index + 1)\n",
    "all_articles_df['ID'] = all_articles_df.apply(lambda row: f\"{row['Source'].replace(' ', '')}_{row['Date'].replace('-', '')}_{np.random.randint(10000, 99999)}\", axis=1)\n",
    "\n",
    "\n"
   ]
  },
  {
   "cell_type": "code",
   "execution_count": null,
   "metadata": {},
   "outputs": [
    {
     "data": {
      "text/html": [
       "<div>\n",
       "<style scoped>\n",
       "    .dataframe tbody tr th:only-of-type {\n",
       "        vertical-align: middle;\n",
       "    }\n",
       "\n",
       "    .dataframe tbody tr th {\n",
       "        vertical-align: top;\n",
       "    }\n",
       "\n",
       "    .dataframe thead th {\n",
       "        text-align: right;\n",
       "    }\n",
       "</style>\n",
       "<table border=\"1\" class=\"dataframe\">\n",
       "  <thead>\n",
       "    <tr style=\"text-align: right;\">\n",
       "      <th></th>\n",
       "      <th>Date</th>\n",
       "      <th>Content</th>\n",
       "      <th>Link</th>\n",
       "      <th>Source</th>\n",
       "      <th>ID</th>\n",
       "    </tr>\n",
       "  </thead>\n",
       "  <tbody>\n",
       "    <tr>\n",
       "      <th>0</th>\n",
       "      <td>2024-03-16</td>\n",
       "      <td>GitHub’s chief legal officer, Shelley McKinley...</td>\n",
       "      <td>https://techcrunch.com/2024/03/16/ai-is-keepin...</td>\n",
       "      <td>Tech Crunch</td>\n",
       "      <td>TechCrunch_20240316_34152</td>\n",
       "    </tr>\n",
       "    <tr>\n",
       "      <th>1</th>\n",
       "      <td>2024-03-16</td>\n",
       "      <td>Keeping up with an industry as fast-moving as ...</td>\n",
       "      <td>https://techcrunch.com/2024/03/16/this-week-in...</td>\n",
       "      <td>Tech Crunch</td>\n",
       "      <td>TechCrunch_20240316_36189</td>\n",
       "    </tr>\n",
       "    <tr>\n",
       "      <th>2</th>\n",
       "      <td>2024-03-15</td>\n",
       "      <td>India is walking back on a recent AI advisory ...</td>\n",
       "      <td>https://techcrunch.com/2024/03/15/india-drops-...</td>\n",
       "      <td>Tech Crunch</td>\n",
       "      <td>TechCrunch_20240315_36077</td>\n",
       "    </tr>\n",
       "    <tr>\n",
       "      <th>3</th>\n",
       "      <td>2024-03-15</td>\n",
       "      <td>It’s extremely heartening to see our little li...</td>\n",
       "      <td>https://techcrunch.com/2024/03/15/these-61-rob...</td>\n",
       "      <td>Tech Crunch</td>\n",
       "      <td>TechCrunch_20240315_99296</td>\n",
       "    </tr>\n",
       "    <tr>\n",
       "      <th>4</th>\n",
       "      <td>2024-03-15</td>\n",
       "      <td>Pilot season has officially begun for the worl...</td>\n",
       "      <td>https://techcrunch.com/2024/03/15/mercedes-beg...</td>\n",
       "      <td>Tech Crunch</td>\n",
       "      <td>TechCrunch_20240315_17601</td>\n",
       "    </tr>\n",
       "  </tbody>\n",
       "</table>\n",
       "</div>"
      ],
      "text/plain": [
       "         Date                                            Content  \\\n",
       "0  2024-03-16  GitHub’s chief legal officer, Shelley McKinley...   \n",
       "1  2024-03-16  Keeping up with an industry as fast-moving as ...   \n",
       "2  2024-03-15  India is walking back on a recent AI advisory ...   \n",
       "3  2024-03-15  It’s extremely heartening to see our little li...   \n",
       "4  2024-03-15  Pilot season has officially begun for the worl...   \n",
       "\n",
       "                                                Link       Source  \\\n",
       "0  https://techcrunch.com/2024/03/16/ai-is-keepin...  Tech Crunch   \n",
       "1  https://techcrunch.com/2024/03/16/this-week-in...  Tech Crunch   \n",
       "2  https://techcrunch.com/2024/03/15/india-drops-...  Tech Crunch   \n",
       "3  https://techcrunch.com/2024/03/15/these-61-rob...  Tech Crunch   \n",
       "4  https://techcrunch.com/2024/03/15/mercedes-beg...  Tech Crunch   \n",
       "\n",
       "                          ID  \n",
       "0  TechCrunch_20240316_34152  \n",
       "1  TechCrunch_20240316_36189  \n",
       "2  TechCrunch_20240315_36077  \n",
       "3  TechCrunch_20240315_99296  \n",
       "4  TechCrunch_20240315_17601  "
      ]
     },
     "execution_count": 3,
     "metadata": {},
     "output_type": "execute_result"
    }
   ],
   "source": [
    "all_articles_df.head()"
   ]
  },
  {
   "cell_type": "code",
   "execution_count": null,
   "metadata": {},
   "outputs": [],
   "source": []
  },
  {
   "cell_type": "code",
   "execution_count": null,
   "metadata": {},
   "outputs": [],
   "source": []
  },
  {
   "cell_type": "code",
   "execution_count": null,
   "metadata": {},
   "outputs": [],
   "source": []
  },
  {
   "cell_type": "code",
   "execution_count": null,
   "metadata": {},
   "outputs": [],
   "source": []
  },
  {
   "cell_type": "code",
   "execution_count": null,
   "metadata": {},
   "outputs": [],
   "source": [
    "from db.database import setup_db, clear_db\n",
    "\n",
    "db = setup_db()\n"
   ]
  },
  {
   "cell_type": "code",
   "execution_count": null,
   "metadata": {},
   "outputs": [
    {
     "data": {
      "text/plain": [
       "[]"
      ]
     },
     "execution_count": 13,
     "metadata": {},
     "output_type": "execute_result"
    }
   ],
   "source": [
    "db.table_names()\n",
    "# table = db.open_table(\"news\")\n",
    "\n",
    "# table.schema"
   ]
  },
  {
   "cell_type": "code",
   "execution_count": null,
   "metadata": {},
   "outputs": [
    {
     "data": {
      "text/plain": [
       "True"
      ]
     },
     "execution_count": 12,
     "metadata": {},
     "output_type": "execute_result"
    }
   ],
   "source": [
    "clear_db(db)"
   ]
  }
 ],
 "metadata": {
  "kernelspec": {
   "display_name": "ipvenv",
   "language": "python",
   "name": "python3"
  },
  "language_info": {
   "codemirror_mode": {
    "name": "ipython",
    "version": 3
   },
   "file_extension": ".py",
   "mimetype": "text/x-python",
   "name": "python",
   "nbconvert_exporter": "python",
   "pygments_lexer": "ipython3",
   "version": "3.12.2"
  }
 },
 "nbformat": 4,
 "nbformat_minor": 2
}
